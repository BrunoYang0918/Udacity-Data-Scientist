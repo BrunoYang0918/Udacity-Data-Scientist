{
 "cells": [
  {
   "cell_type": "markdown",
   "metadata": {
    "toc": true
   },
   "source": [
    "<h1>Table of Contents<span class=\"tocSkip\"></span></h1>\n",
    "<div class=\"toc\"><ul class=\"toc-item\"><li><span><a href=\"#Load-Libraries\" data-toc-modified-id=\"Load-Libraries-1\"><span class=\"toc-item-num\">1&nbsp;&nbsp;</span>Load Libraries</a></span></li><li><span><a href=\"#Loading-Files\" data-toc-modified-id=\"Loading-Files-2\"><span class=\"toc-item-num\">2&nbsp;&nbsp;</span>Loading Files</a></span></li><li><span><a href=\"#CRISP-DM-Process\" data-toc-modified-id=\"CRISP-DM-Process-3\"><span class=\"toc-item-num\">3&nbsp;&nbsp;</span>CRISP-DM Process</a></span><ul class=\"toc-item\"><li><span><a href=\"#Business-Understanding\" data-toc-modified-id=\"Business-Understanding-3.1\"><span class=\"toc-item-num\">3.1&nbsp;&nbsp;</span>Business Understanding</a></span></li><li><span><a href=\"#Quick-Check-Datasets\" data-toc-modified-id=\"Quick-Check-Datasets-3.2\"><span class=\"toc-item-num\">3.2&nbsp;&nbsp;</span>Quick Check Datasets</a></span><ul class=\"toc-item\"><li><span><a href=\"#Calendar-Dataframe\" data-toc-modified-id=\"Calendar-Dataframe-3.2.1\"><span class=\"toc-item-num\">3.2.1&nbsp;&nbsp;</span>Calendar Dataframe</a></span></li><li><span><a href=\"#Listings-Dataframe\" data-toc-modified-id=\"Listings-Dataframe-3.2.2\"><span class=\"toc-item-num\">3.2.2&nbsp;&nbsp;</span>Listings Dataframe</a></span></li><li><span><a href=\"#Reviews-Dataframe\" data-toc-modified-id=\"Reviews-Dataframe-3.2.3\"><span class=\"toc-item-num\">3.2.3&nbsp;&nbsp;</span>Reviews Dataframe</a></span></li></ul></li><li><span><a href=\"#Data-Understanding\" data-toc-modified-id=\"Data-Understanding-3.3\"><span class=\"toc-item-num\">3.3&nbsp;&nbsp;</span>Data Understanding</a></span></li><li><span><a href=\"#Prepare-Data-/-Data-Wrangling\" data-toc-modified-id=\"Prepare-Data-/-Data-Wrangling-3.4\"><span class=\"toc-item-num\">3.4&nbsp;&nbsp;</span>Prepare Data / Data Wrangling</a></span><ul class=\"toc-item\"><li><span><a href=\"#Calendar-Dataframe\" data-toc-modified-id=\"Calendar-Dataframe-3.4.1\"><span class=\"toc-item-num\">3.4.1&nbsp;&nbsp;</span>Calendar Dataframe</a></span><ul class=\"toc-item\"><li><span><a href=\"#Check-the-Nan-Status\" data-toc-modified-id=\"Check-the-Nan-Status-3.4.1.1\"><span class=\"toc-item-num\">3.4.1.1&nbsp;&nbsp;</span>Check the Nan Status</a></span></li><li><span><a href=\"#Check-if-there-is-duplications\" data-toc-modified-id=\"Check-if-there-is-duplications-3.4.1.2\"><span class=\"toc-item-num\">3.4.1.2&nbsp;&nbsp;</span>Check if there is duplications</a></span></li><li><span><a href=\"#Add-new-columns-as-the-group-of-date\" data-toc-modified-id=\"Add-new-columns-as-the-group-of-date-3.4.1.3\"><span class=\"toc-item-num\">3.4.1.3&nbsp;&nbsp;</span>Add new columns as the group of date</a></span></li><li><span><a href=\"#Change-the-data-formate-of-price\" data-toc-modified-id=\"Change-the-data-formate-of-price-3.4.1.4\"><span class=\"toc-item-num\">3.4.1.4&nbsp;&nbsp;</span>Change the data formate of price</a></span></li><li><span><a href=\"#Sum-the-monthly-availabe-listings\" data-toc-modified-id=\"Sum-the-monthly-availabe-listings-3.4.1.5\"><span class=\"toc-item-num\">3.4.1.5&nbsp;&nbsp;</span>Sum the monthly availabe listings</a></span></li></ul></li><li><span><a href=\"#Listings-Dataframe\" data-toc-modified-id=\"Listings-Dataframe-3.4.2\"><span class=\"toc-item-num\">3.4.2&nbsp;&nbsp;</span>Listings Dataframe</a></span><ul class=\"toc-item\"><li><span><a href=\"#Working-with-NaN-Value\" data-toc-modified-id=\"Working-with-NaN-Value-3.4.2.1\"><span class=\"toc-item-num\">3.4.2.1&nbsp;&nbsp;</span>Working with NaN Value</a></span></li><li><span><a href=\"#Covert-Non-Numeric-Columns\" data-toc-modified-id=\"Covert-Non-Numeric-Columns-3.4.2.2\"><span class=\"toc-item-num\">3.4.2.2&nbsp;&nbsp;</span>Covert Non-Numeric Columns</a></span></li><li><span><a href=\"#Convert-Target-Y:-Price\" data-toc-modified-id=\"Convert-Target-Y:-Price-3.4.2.3\"><span class=\"toc-item-num\">3.4.2.3&nbsp;&nbsp;</span>Convert Target Y: Price</a></span></li></ul></li><li><span><a href=\"#Combine-all-price-related-columns-into-one-dataframe\" data-toc-modified-id=\"Combine-all-price-related-columns-into-one-dataframe-3.4.3\"><span class=\"toc-item-num\">3.4.3&nbsp;&nbsp;</span>Combine all price related columns into one dataframe</a></span></li></ul></li><li><span><a href=\"#Model-Data-&amp;-Evaluate-Result\" data-toc-modified-id=\"Model-Data-&amp;-Evaluate-Result-3.5\"><span class=\"toc-item-num\">3.5&nbsp;&nbsp;</span>Model Data &amp; Evaluate Result</a></span><ul class=\"toc-item\"><li><span><a href=\"#What-are-the-busiest-times-of-the-year-to-visit-Boston?-By-how-much-do-prices-spike-?\" data-toc-modified-id=\"What-are-the-busiest-times-of-the-year-to-visit-Boston?-By-how-much-do-prices-spike-?-3.5.1\"><span class=\"toc-item-num\">3.5.1&nbsp;&nbsp;</span>What are the busiest times of the year to visit Boston? By how much do prices spike ?</a></span><ul class=\"toc-item\"><li><span><a href=\"#What-are-the-bed-types-of-listings-and-their-average-price?\" data-toc-modified-id=\"What-are-the-bed-types-of-listings-and-their-average-price?-3.5.1.1\"><span class=\"toc-item-num\">3.5.1.1&nbsp;&nbsp;</span>What are the bed types of listings and their average price?</a></span></li></ul></li><li><span><a href=\"#What-are-the-factors-that-can-help-to-predict-house-price-?\" data-toc-modified-id=\"What-are-the-factors-that-can-help-to-predict-house-price-?-3.5.2\"><span class=\"toc-item-num\">3.5.2&nbsp;&nbsp;</span>What are the factors that can help to predict house price ?</a></span></li></ul></li></ul></li><li><span><a href=\"#Reflections\" data-toc-modified-id=\"Reflections-4\"><span class=\"toc-item-num\">4&nbsp;&nbsp;</span>Reflections</a></span></li></ul></div>"
   ]
  },
  {
   "cell_type": "markdown",
   "metadata": {},
   "source": [
    "# AirBNB Data Analysis\n",
    "## Load Libraries"
   ]
  },
  {
   "cell_type": "code",
   "execution_count": 113,
   "metadata": {
    "code_folding": []
   },
   "outputs": [],
   "source": [
    "# Loading Required Libraries\n",
    "import pandas as pd\n",
    "import numpy as np\n",
    "import sklearn\n",
    "import seaborn as sns\n",
    "from matplotlib import pyplot as plt\n",
    "from sklearn.model_selection import train_test_split\n",
    "from sklearn.metrics import r2_score, mean_squared_error\n",
    "from sklearn.linear_model import LinearRegression\n",
    "\n",
    "#  Setting the maxium columns and rows for notebook\n",
    "pd.options.display.max_columns = 100\n",
    "pd.options.display.max_rows = 200\n",
    "\n",
    "\n",
    "#  Setting the data display format\n",
    "pd.set_option('display.float_format', lambda x: '{:,.2f}'.format(x))"
   ]
  },
  {
   "cell_type": "markdown",
   "metadata": {},
   "source": [
    "## Loading Files"
   ]
  },
  {
   "cell_type": "code",
   "execution_count": 137,
   "metadata": {},
   "outputs": [],
   "source": [
    "# Set File Paths\n",
    "cal_path = \"boston_calendar.csv\"\n",
    "lst_path = \"boston_listings.csv\"\n",
    "rev_path = \"boston_reviews.csv\"\n",
    "\n",
    "# Load in Datasets\n",
    "cal_df = pd.read_csv(cal_path)\n",
    "lst_df = pd.read_csv(lst_path)\n",
    "rev_df = pd.read_csv(rev_path)"
   ]
  },
  {
   "cell_type": "markdown",
   "metadata": {},
   "source": [
    "## CRISP-DM Process\n",
    "### Business Understanding\n",
    "\n",
    "As per description from Kaggle, these datasets include calendar, listings and reviews information of AirBNB. To be more specific:\n",
    "- Listings, including full descriptions and average review score\n",
    "- Reviews, including unique id for each reviewer and detailed comments \n",
    "- Calendar, including listing id and the price and availability for that day\n",
    "\n",
    "After taking a quick look at the datasets, the following questions come into my mind:\n",
    "- 1. What are the busiest times of the year to visit Boston? By how much do prices spike ?\n",
    "- 2. What are the bed types of listings and their average price?\n",
    "- 3. What are the factors that can help to predict house price ?"
   ]
  },
  {
   "cell_type": "markdown",
   "metadata": {},
   "source": [
    "### Quick Check Datasets\n",
    "#### Calendar Dataframe\n",
    "\n",
    "There are 4 columns in this datasets: listing_id, date, available, price. Price information have nan columns, which would need to clean up in the next process\n"
   ]
  },
  {
   "cell_type": "code",
   "execution_count": 116,
   "metadata": {},
   "outputs": [
    {
     "name": "stdout",
     "output_type": "stream",
     "text": [
      "<class 'pandas.core.frame.DataFrame'>\n",
      "RangeIndex: 1308890 entries, 0 to 1308889\n",
      "Data columns (total 4 columns):\n",
      "listing_id    1308890 non-null int64\n",
      "date          1308890 non-null object\n",
      "available     1308890 non-null object\n",
      "price         643037 non-null object\n",
      "dtypes: int64(1), object(3)\n",
      "memory usage: 39.9+ MB\n"
     ]
    }
   ],
   "source": [
    "cal_df.info()"
   ]
  },
  {
   "cell_type": "markdown",
   "metadata": {},
   "source": [
    "#### Listings Dataframe\n",
    "\n",
    "There are 95 columns in this dataframe, all relating to the listing details. 58 columns have no missing values, while there are 4 columns contains no information at all. Those columns will be dropeed in the next step."
   ]
  },
  {
   "cell_type": "code",
   "execution_count": 138,
   "metadata": {
    "code_folding": []
   },
   "outputs": [
    {
     "data": {
      "text/plain": [
       "No Missing     58\n",
       "Low            20\n",
       "Medium          8\n",
       "High            5\n",
       "All Missing     4\n",
       "Name: Missing Group, dtype: int64"
      ]
     },
     "execution_count": 138,
     "metadata": {},
     "output_type": "execute_result"
    }
   ],
   "source": [
    "# Check total columns and the missing value rate\n",
    "lst_check_df = pd.DataFrame(lst_df.isnull().sum()).reset_index()\n",
    "\n",
    "# Rename columns\n",
    "lst_check_df.columns = ['Column Name', 'Count']\n",
    "\n",
    "# Calculate Missing rate and group result based on that\n",
    "lst_check_df['Missing %'] = lst_check_df['Count'].map(lambda x: round(x/lst_df.shape[0], 2))\n",
    "\n",
    "# Missing Group\n",
    "def missing_group_apply(ser):\n",
    "    if ser == 0:\n",
    "        return \"No Missing\"\n",
    "    elif ser < 0.25:\n",
    "        return \"Low\"\n",
    "    elif 0.25 <= ser < 0.5:\n",
    "        return \"Medium\"\n",
    "    elif 0.5 <= ser < 1:\n",
    "        return \"High\"\n",
    "    else:\n",
    "        return \"All Missing\"\n",
    "\n",
    "# View the Missing Groups\n",
    "lst_check_df['Missing Group'] = lst_check_df['Missing %'].map(missing_group_apply)\n",
    "lst_check_df['Missing Group'].value_counts()"
   ]
  },
  {
   "cell_type": "code",
   "execution_count": 139,
   "metadata": {
    "code_folding": []
   },
   "outputs": [
    {
     "data": {
      "text/html": [
       "<div>\n",
       "<style scoped>\n",
       "    .dataframe tbody tr th:only-of-type {\n",
       "        vertical-align: middle;\n",
       "    }\n",
       "\n",
       "    .dataframe tbody tr th {\n",
       "        vertical-align: top;\n",
       "    }\n",
       "\n",
       "    .dataframe thead th {\n",
       "        text-align: right;\n",
       "    }\n",
       "</style>\n",
       "<table border=\"1\" class=\"dataframe\">\n",
       "  <thead>\n",
       "    <tr style=\"text-align: right;\">\n",
       "      <th></th>\n",
       "      <th>Column Name</th>\n",
       "      <th>Count</th>\n",
       "      <th>Missing %</th>\n",
       "      <th>Missing Group</th>\n",
       "    </tr>\n",
       "  </thead>\n",
       "  <tbody>\n",
       "    <tr>\n",
       "      <th>40</th>\n",
       "      <td>neighbourhood_group_cleansed</td>\n",
       "      <td>3585</td>\n",
       "      <td>1.00</td>\n",
       "      <td>All Missing</td>\n",
       "    </tr>\n",
       "    <tr>\n",
       "      <th>70</th>\n",
       "      <td>has_availability</td>\n",
       "      <td>3585</td>\n",
       "      <td>1.00</td>\n",
       "      <td>All Missing</td>\n",
       "    </tr>\n",
       "    <tr>\n",
       "      <th>87</th>\n",
       "      <td>license</td>\n",
       "      <td>3585</td>\n",
       "      <td>1.00</td>\n",
       "      <td>All Missing</td>\n",
       "    </tr>\n",
       "    <tr>\n",
       "      <th>88</th>\n",
       "      <td>jurisdiction_names</td>\n",
       "      <td>3585</td>\n",
       "      <td>1.00</td>\n",
       "      <td>All Missing</td>\n",
       "    </tr>\n",
       "  </tbody>\n",
       "</table>\n",
       "</div>"
      ],
      "text/plain": [
       "                     Column Name  Count  Missing % Missing Group\n",
       "40  neighbourhood_group_cleansed   3585       1.00   All Missing\n",
       "70              has_availability   3585       1.00   All Missing\n",
       "87                       license   3585       1.00   All Missing\n",
       "88            jurisdiction_names   3585       1.00   All Missing"
      ]
     },
     "execution_count": 139,
     "metadata": {},
     "output_type": "execute_result"
    }
   ],
   "source": [
    "# Get the column names with no value at all\n",
    "lst_check_df[lst_check_df['Missing Group'] == \"All Missing\"]"
   ]
  },
  {
   "cell_type": "markdown",
   "metadata": {},
   "source": [
    "#### Reviews Dataframe\n",
    "\n",
    "The dataset contains reviewer details and their comment regarding a specific listing. Since I am not going to do text analysis. This dataset is would be less relevant and not used."
   ]
  },
  {
   "cell_type": "code",
   "execution_count": 119,
   "metadata": {},
   "outputs": [
    {
     "name": "stdout",
     "output_type": "stream",
     "text": [
      "<class 'pandas.core.frame.DataFrame'>\n",
      "RangeIndex: 68275 entries, 0 to 68274\n",
      "Data columns (total 6 columns):\n",
      "listing_id       68275 non-null int64\n",
      "id               68275 non-null int64\n",
      "date             68275 non-null object\n",
      "reviewer_id      68275 non-null int64\n",
      "reviewer_name    68275 non-null object\n",
      "comments         68222 non-null object\n",
      "dtypes: int64(3), object(3)\n",
      "memory usage: 3.1+ MB\n"
     ]
    }
   ],
   "source": [
    "rev_df.info()"
   ]
  },
  {
   "cell_type": "markdown",
   "metadata": {},
   "source": [
    "### Data Understanding"
   ]
  },
  {
   "cell_type": "markdown",
   "metadata": {},
   "source": [
    "Regarding the above three questions, the following columns are required to answering them.\n",
    "\n",
    "- Question 1. Available and price columns from calendar can help answer this question\n",
    "- Question 2. Various columns from Listings documents would be helpful.\n",
    "- Question 3. Similarily, various columns from Listings documents would be helpful.\n",
    "\n",
    "In this analysis, since I am not going the dig further on text analysis/emotion analysis. The review document is not used."
   ]
  },
  {
   "cell_type": "markdown",
   "metadata": {},
   "source": [
    "### Prepare Data / Data Wrangling\n",
    "#### Calendar Dataframe\n",
    "In order to have knowledge of the busiest time of visit to Boston and price increasement. We have processed data based on the below process:\n",
    "\n",
    "1. Check if there is unexpected nan values\n",
    "2. Check if there is unexpected duplications\n",
    "3. Adjust the date columns so that data can be grouped easily\n",
    "4. Change the date format of price columns from string to number so that it can be calculated"
   ]
  },
  {
   "cell_type": "code",
   "execution_count": 141,
   "metadata": {
    "code_folding": [],
    "collapsed": true
   },
   "outputs": [
    {
     "data": {
      "text/html": [
       "<div>\n",
       "<style scoped>\n",
       "    .dataframe tbody tr th:only-of-type {\n",
       "        vertical-align: middle;\n",
       "    }\n",
       "\n",
       "    .dataframe tbody tr th {\n",
       "        vertical-align: top;\n",
       "    }\n",
       "\n",
       "    .dataframe thead th {\n",
       "        text-align: right;\n",
       "    }\n",
       "</style>\n",
       "<table border=\"1\" class=\"dataframe\">\n",
       "  <thead>\n",
       "    <tr style=\"text-align: right;\">\n",
       "      <th></th>\n",
       "      <th>listing_id</th>\n",
       "      <th>date</th>\n",
       "      <th>available</th>\n",
       "      <th>price</th>\n",
       "    </tr>\n",
       "  </thead>\n",
       "  <tbody>\n",
       "    <tr>\n",
       "      <th>1308885</th>\n",
       "      <td>14504422</td>\n",
       "      <td>2016-09-10</td>\n",
       "      <td>f</td>\n",
       "      <td>NaN</td>\n",
       "    </tr>\n",
       "    <tr>\n",
       "      <th>1308886</th>\n",
       "      <td>14504422</td>\n",
       "      <td>2016-09-09</td>\n",
       "      <td>f</td>\n",
       "      <td>NaN</td>\n",
       "    </tr>\n",
       "    <tr>\n",
       "      <th>1308887</th>\n",
       "      <td>14504422</td>\n",
       "      <td>2016-09-08</td>\n",
       "      <td>f</td>\n",
       "      <td>NaN</td>\n",
       "    </tr>\n",
       "    <tr>\n",
       "      <th>1308888</th>\n",
       "      <td>14504422</td>\n",
       "      <td>2016-09-07</td>\n",
       "      <td>f</td>\n",
       "      <td>NaN</td>\n",
       "    </tr>\n",
       "    <tr>\n",
       "      <th>1308889</th>\n",
       "      <td>14504422</td>\n",
       "      <td>2016-09-06</td>\n",
       "      <td>f</td>\n",
       "      <td>NaN</td>\n",
       "    </tr>\n",
       "  </tbody>\n",
       "</table>\n",
       "</div>"
      ],
      "text/plain": [
       "         listing_id        date available price\n",
       "1308885    14504422  2016-09-10         f   NaN\n",
       "1308886    14504422  2016-09-09         f   NaN\n",
       "1308887    14504422  2016-09-08         f   NaN\n",
       "1308888    14504422  2016-09-07         f   NaN\n",
       "1308889    14504422  2016-09-06         f   NaN"
      ]
     },
     "execution_count": 141,
     "metadata": {},
     "output_type": "execute_result"
    }
   ],
   "source": [
    "# A quick snap to have general idea how the dataset looks like\n",
    "cal_df.tail()"
   ]
  },
  {
   "cell_type": "code",
   "execution_count": 142,
   "metadata": {},
   "outputs": [
    {
     "data": {
      "text/plain": [
       "array([nan, '$65.00', '$75.00', ..., '$1,030.00', '$2,895.00', '$11.00'],\n",
       "      dtype=object)"
      ]
     },
     "execution_count": 142,
     "metadata": {},
     "output_type": "execute_result"
    }
   ],
   "source": [
    "# See how the price looks like\n",
    "cal_df['price'].unique()"
   ]
  },
  {
   "cell_type": "markdown",
   "metadata": {},
   "source": [
    "##### Check the Nan Status\n",
    "\n",
    "It is noticed from the previous observation that only price column have nan value. By taking a further look, I found that when the available column is f (False), the corresponding listing has no price information. This pattern is examined and the result is as expected."
   ]
  },
  {
   "cell_type": "code",
   "execution_count": 143,
   "metadata": {
    "code_folding": []
   },
   "outputs": [],
   "source": [
    "# Check if only False available has no price\n",
    "cal_df.groupby([\"available\"]).count().reset_index()\n",
    "\n",
    "# For a easier calculation of the availablity in the future, f / t are replaced by 0 / 1.\n",
    "cal_df['available'] = cal_df['available'].map({'f': 0, 't': 1})"
   ]
  },
  {
   "cell_type": "markdown",
   "metadata": {},
   "source": [
    "##### Check if there is duplications\n",
    "It is expected that the price column in the output dataframe will all be 1, since there can only be 1 price for a listing per day. Unfortunately, there is one listing have more than 1 result. By taking a further look, we can infer that this listing have duplicated data for each day. Thus, the duplications are dropped.\n"
   ]
  },
  {
   "cell_type": "code",
   "execution_count": 144,
   "metadata": {
    "code_folding": [
     0
    ]
   },
   "outputs": [
    {
     "name": "stdout",
     "output_type": "stream",
     "text": [
      "[12898806]\n"
     ]
    },
    {
     "data": {
      "text/html": [
       "<div>\n",
       "<style scoped>\n",
       "    .dataframe tbody tr th:only-of-type {\n",
       "        vertical-align: middle;\n",
       "    }\n",
       "\n",
       "    .dataframe tbody tr th {\n",
       "        vertical-align: top;\n",
       "    }\n",
       "\n",
       "    .dataframe thead th {\n",
       "        text-align: right;\n",
       "    }\n",
       "</style>\n",
       "<table border=\"1\" class=\"dataframe\">\n",
       "  <thead>\n",
       "    <tr style=\"text-align: right;\">\n",
       "      <th></th>\n",
       "      <th>listing_id</th>\n",
       "      <th>date</th>\n",
       "      <th>available</th>\n",
       "      <th>price</th>\n",
       "    </tr>\n",
       "  </thead>\n",
       "  <tbody>\n",
       "    <tr>\n",
       "      <th>748873</th>\n",
       "      <td>12898806</td>\n",
       "      <td>2016-09-06</td>\n",
       "      <td>1</td>\n",
       "      <td>$220.00</td>\n",
       "    </tr>\n",
       "    <tr>\n",
       "      <th>748850</th>\n",
       "      <td>12898806</td>\n",
       "      <td>2016-09-06</td>\n",
       "      <td>1</td>\n",
       "      <td>$220.00</td>\n",
       "    </tr>\n",
       "    <tr>\n",
       "      <th>748849</th>\n",
       "      <td>12898806</td>\n",
       "      <td>2016-09-07</td>\n",
       "      <td>1</td>\n",
       "      <td>$220.00</td>\n",
       "    </tr>\n",
       "    <tr>\n",
       "      <th>748872</th>\n",
       "      <td>12898806</td>\n",
       "      <td>2016-09-07</td>\n",
       "      <td>1</td>\n",
       "      <td>$220.00</td>\n",
       "    </tr>\n",
       "    <tr>\n",
       "      <th>748871</th>\n",
       "      <td>12898806</td>\n",
       "      <td>2016-09-08</td>\n",
       "      <td>1</td>\n",
       "      <td>$220.00</td>\n",
       "    </tr>\n",
       "    <tr>\n",
       "      <th>748848</th>\n",
       "      <td>12898806</td>\n",
       "      <td>2016-09-08</td>\n",
       "      <td>1</td>\n",
       "      <td>$220.00</td>\n",
       "    </tr>\n",
       "    <tr>\n",
       "      <th>748870</th>\n",
       "      <td>12898806</td>\n",
       "      <td>2016-09-09</td>\n",
       "      <td>1</td>\n",
       "      <td>$220.00</td>\n",
       "    </tr>\n",
       "    <tr>\n",
       "      <th>748847</th>\n",
       "      <td>12898806</td>\n",
       "      <td>2016-09-09</td>\n",
       "      <td>1</td>\n",
       "      <td>$220.00</td>\n",
       "    </tr>\n",
       "    <tr>\n",
       "      <th>748869</th>\n",
       "      <td>12898806</td>\n",
       "      <td>2016-09-10</td>\n",
       "      <td>1</td>\n",
       "      <td>$220.00</td>\n",
       "    </tr>\n",
       "    <tr>\n",
       "      <th>748846</th>\n",
       "      <td>12898806</td>\n",
       "      <td>2016-09-10</td>\n",
       "      <td>1</td>\n",
       "      <td>$220.00</td>\n",
       "    </tr>\n",
       "  </tbody>\n",
       "</table>\n",
       "</div>"
      ],
      "text/plain": [
       "        listing_id        date  available    price\n",
       "748873    12898806  2016-09-06          1  $220.00\n",
       "748850    12898806  2016-09-06          1  $220.00\n",
       "748849    12898806  2016-09-07          1  $220.00\n",
       "748872    12898806  2016-09-07          1  $220.00\n",
       "748871    12898806  2016-09-08          1  $220.00\n",
       "748848    12898806  2016-09-08          1  $220.00\n",
       "748870    12898806  2016-09-09          1  $220.00\n",
       "748847    12898806  2016-09-09          1  $220.00\n",
       "748869    12898806  2016-09-10          1  $220.00\n",
       "748846    12898806  2016-09-10          1  $220.00"
      ]
     },
     "execution_count": 144,
     "metadata": {},
     "output_type": "execute_result"
    }
   ],
   "source": [
    "# Get the count dataframe\n",
    "check_df = cal_df.groupby(['date', 'listing_id', 'available']).count().reset_index()\n",
    "print(check_df[check_df['price'] > 1]['listing_id'].unique())\n",
    "\n",
    "# Check back to the original dataset\n",
    "cal_df[cal_df['listing_id'] == 12898806].sort_values(by = 'date').head(10)"
   ]
  },
  {
   "cell_type": "code",
   "execution_count": 145,
   "metadata": {
    "code_folding": []
   },
   "outputs": [],
   "source": [
    "# Drop duplications\n",
    "cal_df = cal_df.drop_duplicates(subset=['date', 'listing_id', 'available'])"
   ]
  },
  {
   "cell_type": "markdown",
   "metadata": {},
   "source": [
    "##### Add new columns as the group of date\n",
    "In order to show monthly fluctuation, the date columns should be processed. There are two ways to process dates: 1. transfer date type to datetime64 dtype; 2. convert it to extract year, month (string). The first method is chosen as the change it makes on the original dataset is releative small."
   ]
  },
  {
   "cell_type": "code",
   "execution_count": 147,
   "metadata": {},
   "outputs": [
    {
     "name": "stdout",
     "output_type": "stream",
     "text": [
      "<class 'pandas.core.frame.DataFrame'>\n",
      "Int64Index: 1308525 entries, 0 to 1308889\n",
      "Data columns (total 4 columns):\n",
      "listing_id    1308525 non-null int64\n",
      "date          1308525 non-null datetime64[ns]\n",
      "available     1308525 non-null int64\n",
      "price         642957 non-null object\n",
      "dtypes: datetime64[ns](1), int64(2), object(1)\n",
      "memory usage: 49.9+ MB\n"
     ]
    }
   ],
   "source": [
    "# Change the date type\n",
    "cal_df = cal_df.astype({'date': 'datetime64'})\n",
    "\n",
    "# Check the result\n",
    "cal_df.info()"
   ]
  },
  {
   "cell_type": "markdown",
   "metadata": {},
   "source": [
    "##### Change the data formate of price"
   ]
  },
  {
   "cell_type": "code",
   "execution_count": 148,
   "metadata": {
    "code_folding": []
   },
   "outputs": [],
   "source": [
    "# First need to remove '$' from the string\n",
    "cal_df['price'] = cal_df['price'].replace(regex=[r'\\$|,'], value = '').astype('float64')"
   ]
  },
  {
   "cell_type": "markdown",
   "metadata": {},
   "source": [
    "##### Sum the monthly availabe listings\n",
    "Since we get the mean value of available columns, a high available means more listings is available, while low means the opposite."
   ]
  },
  {
   "cell_type": "code",
   "execution_count": 149,
   "metadata": {},
   "outputs": [
    {
     "data": {
      "text/html": [
       "<div>\n",
       "<style scoped>\n",
       "    .dataframe tbody tr th:only-of-type {\n",
       "        vertical-align: middle;\n",
       "    }\n",
       "\n",
       "    .dataframe tbody tr th {\n",
       "        vertical-align: top;\n",
       "    }\n",
       "\n",
       "    .dataframe thead th {\n",
       "        text-align: right;\n",
       "    }\n",
       "</style>\n",
       "<table border=\"1\" class=\"dataframe\">\n",
       "  <thead>\n",
       "    <tr style=\"text-align: right;\">\n",
       "      <th></th>\n",
       "      <th>available</th>\n",
       "      <th>price</th>\n",
       "    </tr>\n",
       "    <tr>\n",
       "      <th>date</th>\n",
       "      <th></th>\n",
       "      <th></th>\n",
       "    </tr>\n",
       "  </thead>\n",
       "  <tbody>\n",
       "    <tr>\n",
       "      <th>2016-09-30</th>\n",
       "      <td>0.27</td>\n",
       "      <td>252.70</td>\n",
       "    </tr>\n",
       "    <tr>\n",
       "      <th>2016-10-31</th>\n",
       "      <td>0.42</td>\n",
       "      <td>233.43</td>\n",
       "    </tr>\n",
       "    <tr>\n",
       "      <th>2016-11-30</th>\n",
       "      <td>0.55</td>\n",
       "      <td>202.92</td>\n",
       "    </tr>\n",
       "    <tr>\n",
       "      <th>2016-12-31</th>\n",
       "      <td>0.55</td>\n",
       "      <td>192.60</td>\n",
       "    </tr>\n",
       "    <tr>\n",
       "      <th>2017-01-31</th>\n",
       "      <td>0.57</td>\n",
       "      <td>182.80</td>\n",
       "    </tr>\n",
       "    <tr>\n",
       "      <th>2017-02-28</th>\n",
       "      <td>0.57</td>\n",
       "      <td>180.96</td>\n",
       "    </tr>\n",
       "    <tr>\n",
       "      <th>2017-03-31</th>\n",
       "      <td>0.50</td>\n",
       "      <td>181.82</td>\n",
       "    </tr>\n",
       "    <tr>\n",
       "      <th>2017-04-30</th>\n",
       "      <td>0.48</td>\n",
       "      <td>197.25</td>\n",
       "    </tr>\n",
       "    <tr>\n",
       "      <th>2017-05-31</th>\n",
       "      <td>0.48</td>\n",
       "      <td>193.71</td>\n",
       "    </tr>\n",
       "    <tr>\n",
       "      <th>2017-06-30</th>\n",
       "      <td>0.49</td>\n",
       "      <td>196.54</td>\n",
       "    </tr>\n",
       "    <tr>\n",
       "      <th>2017-07-31</th>\n",
       "      <td>0.49</td>\n",
       "      <td>202.49</td>\n",
       "    </tr>\n",
       "    <tr>\n",
       "      <th>2017-08-31</th>\n",
       "      <td>0.50</td>\n",
       "      <td>203.33</td>\n",
       "    </tr>\n",
       "    <tr>\n",
       "      <th>2017-09-30</th>\n",
       "      <td>0.50</td>\n",
       "      <td>194.66</td>\n",
       "    </tr>\n",
       "  </tbody>\n",
       "</table>\n",
       "</div>"
      ],
      "text/plain": [
       "            available  price\n",
       "date                        \n",
       "2016-09-30       0.27 252.70\n",
       "2016-10-31       0.42 233.43\n",
       "2016-11-30       0.55 202.92\n",
       "2016-12-31       0.55 192.60\n",
       "2017-01-31       0.57 182.80\n",
       "2017-02-28       0.57 180.96\n",
       "2017-03-31       0.50 181.82\n",
       "2017-04-30       0.48 197.25\n",
       "2017-05-31       0.48 193.71\n",
       "2017-06-30       0.49 196.54\n",
       "2017-07-31       0.49 202.49\n",
       "2017-08-31       0.50 203.33\n",
       "2017-09-30       0.50 194.66"
      ]
     },
     "execution_count": 149,
     "metadata": {},
     "output_type": "execute_result"
    }
   ],
   "source": [
    "cal_df.index = cal_df['date']\n",
    "df_grouped = pd.pivot_table(cal_df, index = pd.Grouper(freq='M'), values = ['price', 'available'], aggfunc='mean')\n",
    "df_grouped"
   ]
  },
  {
   "cell_type": "markdown",
   "metadata": {},
   "source": [
    "#### Listings Dataframe"
   ]
  },
  {
   "cell_type": "markdown",
   "metadata": {},
   "source": [
    "We could dig out the findings from the below describe function:\n",
    "1. There are 4 numeric columns with no counts at all; they should be removed.\n",
    "2. For scrape_id column, all information are exactly the same; this column is also removed going forward.\n",
    "3. Host_listings_count and host_total_listings_count seems to have exactly the same information as well.\n",
    "4. The max value of maximum_nights is way higher than the rest; this value might be a outlier.\n",
    "5. Regarding the target Y \"price\", it is not encoded as numeric data, further processing will be required.\n",
    "6. Factors like postion (latitude, longitude, accommodates, bathrooms, bedrooms, beds, square_feet, guests_included) are expected to have high revelant to the target: price."
   ]
  },
  {
   "cell_type": "code",
   "execution_count": 128,
   "metadata": {},
   "outputs": [
    {
     "data": {
      "text/html": [
       "<div>\n",
       "<style scoped>\n",
       "    .dataframe tbody tr th:only-of-type {\n",
       "        vertical-align: middle;\n",
       "    }\n",
       "\n",
       "    .dataframe tbody tr th {\n",
       "        vertical-align: top;\n",
       "    }\n",
       "\n",
       "    .dataframe thead th {\n",
       "        text-align: right;\n",
       "    }\n",
       "</style>\n",
       "<table border=\"1\" class=\"dataframe\">\n",
       "  <thead>\n",
       "    <tr style=\"text-align: right;\">\n",
       "      <th></th>\n",
       "      <th>id</th>\n",
       "      <th>scrape_id</th>\n",
       "      <th>host_id</th>\n",
       "      <th>host_listings_count</th>\n",
       "      <th>host_total_listings_count</th>\n",
       "      <th>neighbourhood_group_cleansed</th>\n",
       "      <th>latitude</th>\n",
       "      <th>longitude</th>\n",
       "      <th>accommodates</th>\n",
       "      <th>bathrooms</th>\n",
       "      <th>bedrooms</th>\n",
       "      <th>beds</th>\n",
       "      <th>square_feet</th>\n",
       "      <th>guests_included</th>\n",
       "      <th>minimum_nights</th>\n",
       "      <th>maximum_nights</th>\n",
       "      <th>has_availability</th>\n",
       "      <th>availability_30</th>\n",
       "      <th>availability_60</th>\n",
       "      <th>availability_90</th>\n",
       "      <th>availability_365</th>\n",
       "      <th>number_of_reviews</th>\n",
       "      <th>review_scores_rating</th>\n",
       "      <th>review_scores_accuracy</th>\n",
       "      <th>review_scores_cleanliness</th>\n",
       "      <th>review_scores_checkin</th>\n",
       "      <th>review_scores_communication</th>\n",
       "      <th>review_scores_location</th>\n",
       "      <th>review_scores_value</th>\n",
       "      <th>license</th>\n",
       "      <th>jurisdiction_names</th>\n",
       "      <th>calculated_host_listings_count</th>\n",
       "      <th>reviews_per_month</th>\n",
       "    </tr>\n",
       "  </thead>\n",
       "  <tbody>\n",
       "    <tr>\n",
       "      <th>count</th>\n",
       "      <td>3,585.00</td>\n",
       "      <td>3,585.00</td>\n",
       "      <td>3,585.00</td>\n",
       "      <td>3,585.00</td>\n",
       "      <td>3,585.00</td>\n",
       "      <td>0.00</td>\n",
       "      <td>3,585.00</td>\n",
       "      <td>3,585.00</td>\n",
       "      <td>3,585.00</td>\n",
       "      <td>3,571.00</td>\n",
       "      <td>3,575.00</td>\n",
       "      <td>3,576.00</td>\n",
       "      <td>56.00</td>\n",
       "      <td>3,585.00</td>\n",
       "      <td>3,585.00</td>\n",
       "      <td>3,585.00</td>\n",
       "      <td>0.00</td>\n",
       "      <td>3,585.00</td>\n",
       "      <td>3,585.00</td>\n",
       "      <td>3,585.00</td>\n",
       "      <td>3,585.00</td>\n",
       "      <td>3,585.00</td>\n",
       "      <td>2,772.00</td>\n",
       "      <td>2,762.00</td>\n",
       "      <td>2,767.00</td>\n",
       "      <td>2,765.00</td>\n",
       "      <td>2,767.00</td>\n",
       "      <td>2,763.00</td>\n",
       "      <td>2,764.00</td>\n",
       "      <td>0.00</td>\n",
       "      <td>0.00</td>\n",
       "      <td>3,585.00</td>\n",
       "      <td>2,829.00</td>\n",
       "    </tr>\n",
       "    <tr>\n",
       "      <th>mean</th>\n",
       "      <td>8,440,874.63</td>\n",
       "      <td>20,160,906,204,935.85</td>\n",
       "      <td>24,923,107.45</td>\n",
       "      <td>58.90</td>\n",
       "      <td>58.90</td>\n",
       "      <td>nan</td>\n",
       "      <td>42.34</td>\n",
       "      <td>-71.08</td>\n",
       "      <td>3.04</td>\n",
       "      <td>1.22</td>\n",
       "      <td>1.26</td>\n",
       "      <td>1.61</td>\n",
       "      <td>858.46</td>\n",
       "      <td>1.43</td>\n",
       "      <td>3.17</td>\n",
       "      <td>28,725.84</td>\n",
       "      <td>nan</td>\n",
       "      <td>8.65</td>\n",
       "      <td>21.83</td>\n",
       "      <td>38.56</td>\n",
       "      <td>179.35</td>\n",
       "      <td>19.04</td>\n",
       "      <td>91.92</td>\n",
       "      <td>9.43</td>\n",
       "      <td>9.26</td>\n",
       "      <td>9.65</td>\n",
       "      <td>9.65</td>\n",
       "      <td>9.41</td>\n",
       "      <td>9.17</td>\n",
       "      <td>nan</td>\n",
       "      <td>nan</td>\n",
       "      <td>12.73</td>\n",
       "      <td>1.97</td>\n",
       "    </tr>\n",
       "    <tr>\n",
       "      <th>std</th>\n",
       "      <td>4,500,786.86</td>\n",
       "      <td>0.85</td>\n",
       "      <td>22,927,809.87</td>\n",
       "      <td>171.12</td>\n",
       "      <td>171.12</td>\n",
       "      <td>nan</td>\n",
       "      <td>0.02</td>\n",
       "      <td>0.03</td>\n",
       "      <td>1.78</td>\n",
       "      <td>0.50</td>\n",
       "      <td>0.75</td>\n",
       "      <td>1.01</td>\n",
       "      <td>608.87</td>\n",
       "      <td>1.06</td>\n",
       "      <td>8.87</td>\n",
       "      <td>1,670,135.94</td>\n",
       "      <td>nan</td>\n",
       "      <td>10.44</td>\n",
       "      <td>21.86</td>\n",
       "      <td>33.16</td>\n",
       "      <td>142.14</td>\n",
       "      <td>35.57</td>\n",
       "      <td>9.53</td>\n",
       "      <td>0.93</td>\n",
       "      <td>1.17</td>\n",
       "      <td>0.76</td>\n",
       "      <td>0.74</td>\n",
       "      <td>0.90</td>\n",
       "      <td>1.01</td>\n",
       "      <td>nan</td>\n",
       "      <td>nan</td>\n",
       "      <td>29.42</td>\n",
       "      <td>2.12</td>\n",
       "    </tr>\n",
       "    <tr>\n",
       "      <th>min</th>\n",
       "      <td>3,353.00</td>\n",
       "      <td>20,160,906,204,935.00</td>\n",
       "      <td>4,240.00</td>\n",
       "      <td>0.00</td>\n",
       "      <td>0.00</td>\n",
       "      <td>nan</td>\n",
       "      <td>42.24</td>\n",
       "      <td>-71.17</td>\n",
       "      <td>1.00</td>\n",
       "      <td>0.00</td>\n",
       "      <td>0.00</td>\n",
       "      <td>0.00</td>\n",
       "      <td>0.00</td>\n",
       "      <td>0.00</td>\n",
       "      <td>1.00</td>\n",
       "      <td>1.00</td>\n",
       "      <td>nan</td>\n",
       "      <td>0.00</td>\n",
       "      <td>0.00</td>\n",
       "      <td>0.00</td>\n",
       "      <td>0.00</td>\n",
       "      <td>0.00</td>\n",
       "      <td>20.00</td>\n",
       "      <td>2.00</td>\n",
       "      <td>2.00</td>\n",
       "      <td>2.00</td>\n",
       "      <td>4.00</td>\n",
       "      <td>2.00</td>\n",
       "      <td>2.00</td>\n",
       "      <td>nan</td>\n",
       "      <td>nan</td>\n",
       "      <td>1.00</td>\n",
       "      <td>0.01</td>\n",
       "    </tr>\n",
       "    <tr>\n",
       "      <th>25%</th>\n",
       "      <td>4,679,319.00</td>\n",
       "      <td>20,160,906,204,935.00</td>\n",
       "      <td>6,103,425.00</td>\n",
       "      <td>1.00</td>\n",
       "      <td>1.00</td>\n",
       "      <td>nan</td>\n",
       "      <td>42.33</td>\n",
       "      <td>-71.11</td>\n",
       "      <td>2.00</td>\n",
       "      <td>1.00</td>\n",
       "      <td>1.00</td>\n",
       "      <td>1.00</td>\n",
       "      <td>415.00</td>\n",
       "      <td>1.00</td>\n",
       "      <td>1.00</td>\n",
       "      <td>365.00</td>\n",
       "      <td>nan</td>\n",
       "      <td>0.00</td>\n",
       "      <td>0.00</td>\n",
       "      <td>0.00</td>\n",
       "      <td>19.00</td>\n",
       "      <td>1.00</td>\n",
       "      <td>89.00</td>\n",
       "      <td>9.00</td>\n",
       "      <td>9.00</td>\n",
       "      <td>9.00</td>\n",
       "      <td>9.00</td>\n",
       "      <td>9.00</td>\n",
       "      <td>9.00</td>\n",
       "      <td>nan</td>\n",
       "      <td>nan</td>\n",
       "      <td>1.00</td>\n",
       "      <td>0.48</td>\n",
       "    </tr>\n",
       "    <tr>\n",
       "      <th>50%</th>\n",
       "      <td>8,577,620.00</td>\n",
       "      <td>20,160,906,204,935.00</td>\n",
       "      <td>19,280,995.00</td>\n",
       "      <td>2.00</td>\n",
       "      <td>2.00</td>\n",
       "      <td>nan</td>\n",
       "      <td>42.35</td>\n",
       "      <td>-71.08</td>\n",
       "      <td>2.00</td>\n",
       "      <td>1.00</td>\n",
       "      <td>1.00</td>\n",
       "      <td>1.00</td>\n",
       "      <td>825.00</td>\n",
       "      <td>1.00</td>\n",
       "      <td>2.00</td>\n",
       "      <td>1,125.00</td>\n",
       "      <td>nan</td>\n",
       "      <td>4.00</td>\n",
       "      <td>16.00</td>\n",
       "      <td>37.00</td>\n",
       "      <td>179.00</td>\n",
       "      <td>5.00</td>\n",
       "      <td>94.00</td>\n",
       "      <td>10.00</td>\n",
       "      <td>10.00</td>\n",
       "      <td>10.00</td>\n",
       "      <td>10.00</td>\n",
       "      <td>10.00</td>\n",
       "      <td>9.00</td>\n",
       "      <td>nan</td>\n",
       "      <td>nan</td>\n",
       "      <td>2.00</td>\n",
       "      <td>1.17</td>\n",
       "    </tr>\n",
       "    <tr>\n",
       "      <th>75%</th>\n",
       "      <td>12,789,527.00</td>\n",
       "      <td>20,160,906,204,935.00</td>\n",
       "      <td>36,221,474.00</td>\n",
       "      <td>7.00</td>\n",
       "      <td>7.00</td>\n",
       "      <td>nan</td>\n",
       "      <td>42.35</td>\n",
       "      <td>-71.06</td>\n",
       "      <td>4.00</td>\n",
       "      <td>1.00</td>\n",
       "      <td>2.00</td>\n",
       "      <td>2.00</td>\n",
       "      <td>1,200.00</td>\n",
       "      <td>1.00</td>\n",
       "      <td>3.00</td>\n",
       "      <td>1,125.00</td>\n",
       "      <td>nan</td>\n",
       "      <td>15.00</td>\n",
       "      <td>40.00</td>\n",
       "      <td>68.00</td>\n",
       "      <td>325.00</td>\n",
       "      <td>21.00</td>\n",
       "      <td>98.25</td>\n",
       "      <td>10.00</td>\n",
       "      <td>10.00</td>\n",
       "      <td>10.00</td>\n",
       "      <td>10.00</td>\n",
       "      <td>10.00</td>\n",
       "      <td>10.00</td>\n",
       "      <td>nan</td>\n",
       "      <td>nan</td>\n",
       "      <td>6.00</td>\n",
       "      <td>2.72</td>\n",
       "    </tr>\n",
       "    <tr>\n",
       "      <th>max</th>\n",
       "      <td>14,933,461.00</td>\n",
       "      <td>20,160,906,204,935.00</td>\n",
       "      <td>93,854,106.00</td>\n",
       "      <td>749.00</td>\n",
       "      <td>749.00</td>\n",
       "      <td>nan</td>\n",
       "      <td>42.39</td>\n",
       "      <td>-71.00</td>\n",
       "      <td>16.00</td>\n",
       "      <td>6.00</td>\n",
       "      <td>5.00</td>\n",
       "      <td>16.00</td>\n",
       "      <td>2,400.00</td>\n",
       "      <td>14.00</td>\n",
       "      <td>300.00</td>\n",
       "      <td>99,999,999.00</td>\n",
       "      <td>nan</td>\n",
       "      <td>30.00</td>\n",
       "      <td>60.00</td>\n",
       "      <td>90.00</td>\n",
       "      <td>365.00</td>\n",
       "      <td>404.00</td>\n",
       "      <td>100.00</td>\n",
       "      <td>10.00</td>\n",
       "      <td>10.00</td>\n",
       "      <td>10.00</td>\n",
       "      <td>10.00</td>\n",
       "      <td>10.00</td>\n",
       "      <td>10.00</td>\n",
       "      <td>nan</td>\n",
       "      <td>nan</td>\n",
       "      <td>136.00</td>\n",
       "      <td>19.15</td>\n",
       "    </tr>\n",
       "  </tbody>\n",
       "</table>\n",
       "</div>"
      ],
      "text/plain": [
       "                 id             scrape_id       host_id  host_listings_count  \\\n",
       "count      3,585.00              3,585.00      3,585.00             3,585.00   \n",
       "mean   8,440,874.63 20,160,906,204,935.85 24,923,107.45                58.90   \n",
       "std    4,500,786.86                  0.85 22,927,809.87               171.12   \n",
       "min        3,353.00 20,160,906,204,935.00      4,240.00                 0.00   \n",
       "25%    4,679,319.00 20,160,906,204,935.00  6,103,425.00                 1.00   \n",
       "50%    8,577,620.00 20,160,906,204,935.00 19,280,995.00                 2.00   \n",
       "75%   12,789,527.00 20,160,906,204,935.00 36,221,474.00                 7.00   \n",
       "max   14,933,461.00 20,160,906,204,935.00 93,854,106.00               749.00   \n",
       "\n",
       "       host_total_listings_count  neighbourhood_group_cleansed  latitude  \\\n",
       "count                   3,585.00                          0.00  3,585.00   \n",
       "mean                       58.90                           nan     42.34   \n",
       "std                       171.12                           nan      0.02   \n",
       "min                         0.00                           nan     42.24   \n",
       "25%                         1.00                           nan     42.33   \n",
       "50%                         2.00                           nan     42.35   \n",
       "75%                         7.00                           nan     42.35   \n",
       "max                       749.00                           nan     42.39   \n",
       "\n",
       "       longitude  accommodates  bathrooms  bedrooms     beds  square_feet  \\\n",
       "count   3,585.00      3,585.00   3,571.00  3,575.00 3,576.00        56.00   \n",
       "mean      -71.08          3.04       1.22      1.26     1.61       858.46   \n",
       "std         0.03          1.78       0.50      0.75     1.01       608.87   \n",
       "min       -71.17          1.00       0.00      0.00     0.00         0.00   \n",
       "25%       -71.11          2.00       1.00      1.00     1.00       415.00   \n",
       "50%       -71.08          2.00       1.00      1.00     1.00       825.00   \n",
       "75%       -71.06          4.00       1.00      2.00     2.00     1,200.00   \n",
       "max       -71.00         16.00       6.00      5.00    16.00     2,400.00   \n",
       "\n",
       "       guests_included  minimum_nights  maximum_nights  has_availability  \\\n",
       "count         3,585.00        3,585.00        3,585.00              0.00   \n",
       "mean              1.43            3.17       28,725.84               nan   \n",
       "std               1.06            8.87    1,670,135.94               nan   \n",
       "min               0.00            1.00            1.00               nan   \n",
       "25%               1.00            1.00          365.00               nan   \n",
       "50%               1.00            2.00        1,125.00               nan   \n",
       "75%               1.00            3.00        1,125.00               nan   \n",
       "max              14.00          300.00   99,999,999.00               nan   \n",
       "\n",
       "       availability_30  availability_60  availability_90  availability_365  \\\n",
       "count         3,585.00         3,585.00         3,585.00          3,585.00   \n",
       "mean              8.65            21.83            38.56            179.35   \n",
       "std              10.44            21.86            33.16            142.14   \n",
       "min               0.00             0.00             0.00              0.00   \n",
       "25%               0.00             0.00             0.00             19.00   \n",
       "50%               4.00            16.00            37.00            179.00   \n",
       "75%              15.00            40.00            68.00            325.00   \n",
       "max              30.00            60.00            90.00            365.00   \n",
       "\n",
       "       number_of_reviews  review_scores_rating  review_scores_accuracy  \\\n",
       "count           3,585.00              2,772.00                2,762.00   \n",
       "mean               19.04                 91.92                    9.43   \n",
       "std                35.57                  9.53                    0.93   \n",
       "min                 0.00                 20.00                    2.00   \n",
       "25%                 1.00                 89.00                    9.00   \n",
       "50%                 5.00                 94.00                   10.00   \n",
       "75%                21.00                 98.25                   10.00   \n",
       "max               404.00                100.00                   10.00   \n",
       "\n",
       "       review_scores_cleanliness  review_scores_checkin  \\\n",
       "count                   2,767.00               2,765.00   \n",
       "mean                        9.26                   9.65   \n",
       "std                         1.17                   0.76   \n",
       "min                         2.00                   2.00   \n",
       "25%                         9.00                   9.00   \n",
       "50%                        10.00                  10.00   \n",
       "75%                        10.00                  10.00   \n",
       "max                        10.00                  10.00   \n",
       "\n",
       "       review_scores_communication  review_scores_location  \\\n",
       "count                     2,767.00                2,763.00   \n",
       "mean                          9.65                    9.41   \n",
       "std                           0.74                    0.90   \n",
       "min                           4.00                    2.00   \n",
       "25%                           9.00                    9.00   \n",
       "50%                          10.00                   10.00   \n",
       "75%                          10.00                   10.00   \n",
       "max                          10.00                   10.00   \n",
       "\n",
       "       review_scores_value  license  jurisdiction_names  \\\n",
       "count             2,764.00     0.00                0.00   \n",
       "mean                  9.17      nan                 nan   \n",
       "std                   1.01      nan                 nan   \n",
       "min                   2.00      nan                 nan   \n",
       "25%                   9.00      nan                 nan   \n",
       "50%                   9.00      nan                 nan   \n",
       "75%                  10.00      nan                 nan   \n",
       "max                  10.00      nan                 nan   \n",
       "\n",
       "       calculated_host_listings_count  reviews_per_month  \n",
       "count                        3,585.00           2,829.00  \n",
       "mean                            12.73               1.97  \n",
       "std                             29.42               2.12  \n",
       "min                              1.00               0.01  \n",
       "25%                              1.00               0.48  \n",
       "50%                              2.00               1.17  \n",
       "75%                              6.00               2.72  \n",
       "max                            136.00              19.15  "
      ]
     },
     "execution_count": 128,
     "metadata": {},
     "output_type": "execute_result"
    }
   ],
   "source": [
    "lst_df.describe()"
   ]
  },
  {
   "cell_type": "markdown",
   "metadata": {},
   "source": [
    "##### Working with NaN Value"
   ]
  },
  {
   "cell_type": "code",
   "execution_count": 150,
   "metadata": {
    "code_folding": []
   },
   "outputs": [
    {
     "name": "stdout",
     "output_type": "stream",
     "text": [
      "latitude              0\n",
      "longitude             0\n",
      "accommodates          0\n",
      "bathrooms            14\n",
      "bedrooms             10\n",
      "beds                  9\n",
      "square_feet        3529\n",
      "guests_included       0\n",
      "dtype: int64\n"
     ]
    }
   ],
   "source": [
    "# Check and confirm scrape_id only have one unique value\n",
    "assert len(lst_df['scrape_id'].unique()) == 1\n",
    "\n",
    "# Check and confirm Host_listings_count and host_total_listings_count are exactly the same for all rows.\n",
    "assert (lst_df['host_listings_count'] !=\n",
    "        lst_df['host_total_listings_count']).sum() == 0\n",
    "\n",
    "# Remove those columns above\n",
    "col_drop = ['scrape_id', 'host_listings_count', 'host_total_listings_count', 'neighbourhood_group_cleansed', \\\n",
    "            'has_availability', 'license', 'jurisdiction_names']\n",
    "\n",
    "# Drop the columns\n",
    "lst_df = lst_df.drop(columns=col_drop)\n",
    "\n",
    "# Numeric Col highly releated\n",
    "num_col_rev = [\n",
    "    'latitude', 'longitude', 'accommodates', 'bathrooms', 'bedrooms', 'beds',\n",
    "    'square_feet', 'guests_included'\n",
    "]\n",
    "print(lst_df[num_col_rev].isnull().sum())\n",
    "\n",
    "# We could tell that bathrooms and bedrooms have quite small number of missing value,\n",
    "# whilst over 90% rows of squre_feet are missing. We would computing to fill using mean value for the first two columns,\n",
    "# while drop square feet column since vast majority of it is missing.\n",
    "\n",
    "# Fill Mean\n",
    "fill_mean = lambda col: col.fillna(col.mean())\n",
    "num_df = lst_df[num_col_rev].apply(fill_mean)\n",
    "\n",
    "# Drop the culumn with too many NaN values\n",
    "num_df = num_df.drop(columns='square_feet')\n"
   ]
  },
  {
   "cell_type": "markdown",
   "metadata": {},
   "source": [
    "##### Covert Non-Numeric Columns"
   ]
  },
  {
   "cell_type": "code",
   "execution_count": 151,
   "metadata": {
    "code_folding": []
   },
   "outputs": [],
   "source": [
    "# 1. Columns with True or False as inputs\n",
    "t_f_cols = [\n",
    "    'host_is_superhost', 'host_has_profile_pic', 'host_identity_verified',\n",
    "    'is_location_exact', 'requires_license', 'instant_bookable',\n",
    "    'require_guest_profile_picture', 'require_guest_phone_verification'\n",
    "]\n",
    "\n",
    "# 1.1 Using 1 and 0 to replace True and False respectively.\n",
    "tf_df = lst_df[t_f_cols].replace({'t': 1, 'f': 0})"
   ]
  },
  {
   "cell_type": "code",
   "execution_count": 152,
   "metadata": {
    "code_folding": [],
    "scrolled": true
   },
   "outputs": [
    {
     "name": "stdout",
     "output_type": "stream",
     "text": [
      "neighbourhood            15.15\n",
      "neighbourhood_cleansed    0.00\n",
      "state                     0.00\n",
      "zipcode                   1.06\n",
      "property_type             0.08\n",
      "room_type                 0.00\n",
      "bed_type                  0.00\n",
      "cancellation_policy       0.00\n",
      "dtype: float64\n"
     ]
    }
   ],
   "source": [
    "# 2. Columns with Categorical value as inputs\n",
    "cat_cols = [\n",
    "    'neighbourhood', 'neighbourhood_cleansed', 'state', 'zipcode',\n",
    "    'property_type', 'room_type', 'bed_type', 'cancellation_policy'\n",
    "]\n",
    "\n",
    "# 2.1 Check and deal with NaN values\n",
    "# Print NaN rate\n",
    "print(lst_df[cat_cols].isnull().sum()/lst_df[cat_cols].shape[0] * 100)\n",
    "\n",
    "# Fill NaN value using mode number, since there is no mean value for categorical column\n",
    "fill_mode = lambda col: col.fillna(col.mode()[0])\n",
    "lst_df[cat_cols] = lst_df[cat_cols].apply(fill_mode)\n",
    "\n",
    "# 2.2 Convert Categorical Variables through pd.get_dummies\n",
    "\n",
    "def create_dummy_df(df, cat_cols):\n",
    "    for col in cat_cols:\n",
    "        df = pd.concat([df.drop(col, axis=1), pd.get_dummies(df[col], prefix=col, prefix_sep=\"_\", drop_first=True)], axis=1)\n",
    "    return df\n",
    "\n",
    "cat_df = create_dummy_df(lst_df[cat_cols], cat_cols)"
   ]
  },
  {
   "cell_type": "markdown",
   "metadata": {},
   "source": [
    "##### Convert Target Y: Price"
   ]
  },
  {
   "cell_type": "code",
   "execution_count": 153,
   "metadata": {},
   "outputs": [],
   "source": [
    "lst_df['price'] = pd.DataFrame(lst_df['price'].replace(regex=[r'\\$|,'], value = '').astype('float64'))"
   ]
  },
  {
   "cell_type": "markdown",
   "metadata": {},
   "source": [
    "#### Combine all price related columns into one dataframe"
   ]
  },
  {
   "cell_type": "code",
   "execution_count": 154,
   "metadata": {
    "scrolled": true
   },
   "outputs": [],
   "source": [
    "price_pre_df = pd.concat([lst_df['price'], cat_df, tf_df, num_df], axis = 1)"
   ]
  },
  {
   "cell_type": "markdown",
   "metadata": {},
   "source": [
    "### Model Data & Evaluate Result"
   ]
  },
  {
   "cell_type": "markdown",
   "metadata": {},
   "source": [
    "#### What are the busiest times of the year to visit Boston? By how much do prices spike ?\n",
    "Through the below visualization, we can tell that in Sep 2016, the listing availablity is quite low. Only around 30% of the listings are available and the price on average is $50 higher than the rest of the time of that year. In the meantime, we could notice that this phenomenon does not appear the next year. Therefore, we could infer that there might be some special events which leads to the increasement of price and reduction of availability."
   ]
  },
  {
   "cell_type": "code",
   "execution_count": 155,
   "metadata": {
    "code_folding": []
   },
   "outputs": [
    {
     "data": {
      "image/png": "[encoded data removed]",
      "text/plain": [
       "<Figure size 432x288 with 2 Axes>"
      ]
     },
     "metadata": {},
     "output_type": "display_data"
    }
   ],
   "source": [
    "# Generate Figure to show the trend in one graph\n",
    "fig = plt.figure()\n",
    "ax1 = fig.add_subplot(111)\n",
    "ax1.bar(df_grouped.index, df_grouped[\"price\"], width = 20, color='green')\n",
    "ax1.set_xticklabels(ax1.get_xticklabels(), rotation=30)\n",
    "ax2 = ax1.twinx()\n",
    "ax2.plot(df_grouped.index, df_grouped[\"available\"], color='blue')\n",
    "plt.show()"
   ]
  },
  {
   "cell_type": "markdown",
   "metadata": {},
   "source": [
    "##### What are the bed types of listings and their average price?\n",
    "Based on the visulation shown below, we can find out that the in total there are 5 type of listings and their average prices are 78.67, 99.60, 85.25. 101.61, 177.20. "
   ]
  },
  {
   "cell_type": "code",
   "execution_count": 158,
   "metadata": {},
   "outputs": [
    {
     "name": "stdout",
     "output_type": "stream",
     "text": [
      "        bed_type  price\n",
      "0         Airbed  78.67\n",
      "1          Couch  99.60\n",
      "2          Futon  85.25\n",
      "3  Pull-out Sofa 101.61\n",
      "4       Real Bed 177.20\n"
     ]
    },
    {
     "data": {
      "image/png": "[encoded data removed]",
      "text/plain": [
       "<Figure size 432x288 with 1 Axes>"
      ]
     },
     "metadata": {},
     "output_type": "display_data"
    }
   ],
   "source": [
    "# 1. Generate Data for visualization\n",
    "data = pd.pivot_table(type_price_df, values=['price'], index='bed_type', aggfunc={'price':'mean'}).reset_index()\n",
    "print(data)\n",
    "# 2. Create Visualization\n",
    "ax1 = sns.barplot(x=data['bed_type'], y=data['price'])\n",
    "ax1.set_xticklabels(ax1.get_xticklabels(), rotation=30);"
   ]
  },
  {
   "cell_type": "markdown",
   "metadata": {},
   "source": [
    "#### What are the factors that can help to predict house price ?\n",
    "\n",
    "Based on the variables, we select we could build a prediction model to estimate the price. However, based on the r2 score the model does not work out well as expected. This might be caused by:\n",
    "1. not engouth data points\n",
    "2. outliers in the original datasets."
   ]
  },
  {
   "cell_type": "code",
   "execution_count": 157,
   "metadata": {},
   "outputs": [
    {
     "data": {
      "text/plain": [
       "-2.5143904648470305e+23"
      ]
     },
     "execution_count": 157,
     "metadata": {},
     "output_type": "execute_result"
    }
   ],
   "source": [
    "# 1. Data Scaling of\n",
    "X = price_pre_df.drop(columns=['price'])\n",
    "y = price_pre_df['price']\n",
    "\n",
    "# Split Train & Test Datasets\n",
    "X_train, X_test, y_train, y_test = train_test_split(X, y, test_size = .30, random_state=42)\n",
    "\n",
    "# Instantiate\n",
    "lm_model = LinearRegression(normalize=True) \n",
    "\n",
    "# Fit the model\n",
    "lm_model.fit(X_train, y_train) \n",
    "\n",
    "# Predict the prices\n",
    "y_pre = lm_model.predict(X_test)\n",
    "\n",
    "# Compare the result\n",
    "r2_score(y_test, y_pre)"
   ]
  },
  {
   "cell_type": "markdown",
   "metadata": {},
   "source": [
    "## Reflections"
   ]
  },
  {
   "cell_type": "markdown",
   "metadata": {},
   "source": [
    "Due to the limited knowledge there is no text analysis in this analysis. In the furture, I would like to dig further on customer reviews through emotion analysis through deep learning techniques."
   ]
  }
 ],
 "metadata": {
  "kernelspec": {
   "display_name": "Python 3",
   "language": "python",
   "name": "python3"
  },
  "language_info": {
   "codemirror_mode": {
    "name": "ipython",
    "version": 3
   },
   "file_extension": ".py",
   "mimetype": "text/x-python",
   "name": "python",
   "nbconvert_exporter": "python",
   "pygments_lexer": "ipython3",
   "version": "3.6.5"
  },
  "toc": {
   "base_numbering": 1,
   "nav_menu": {},
   "number_sections": true,
   "sideBar": true,
   "skip_h1_title": true,
   "title_cell": "Table of Contents",
   "title_sidebar": "Contents",
   "toc_cell": true,
   "toc_position": {},
   "toc_section_display": true,
   "toc_window_display": false
  },
  "varInspector": {
   "cols": {
    "lenName": 16,
    "lenType": 16,
    "lenVar": 40
   },
   "kernels_config": {
    "python": {
     "delete_cmd_postfix": "",
     "delete_cmd_prefix": "del ",
     "library": "var_list.py",
     "varRefreshCmd": "print(var_dic_list())"
    },
    "r": {
     "delete_cmd_postfix": ") ",
     "delete_cmd_prefix": "rm(",
     "library": "var_list.r",
     "varRefreshCmd": "cat(var_dic_list()) "
    }
   },
   "types_to_exclude": [
    "module",
    "function",
    "builtin_function_or_method",
    "instance",
    "_Feature"
   ],
   "window_display": false
  }
 },
 "nbformat": 4,
 "nbformat_minor": 2
}
