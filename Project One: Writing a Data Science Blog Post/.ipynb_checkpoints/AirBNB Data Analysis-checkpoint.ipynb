{
 "cells": [
  {
   "cell_type": "markdown",
   "metadata": {
    "toc": true
   },
   "source": [
    "<h1>Table of Contents<span class=\"tocSkip\"></span></h1>\n",
    "<div class=\"toc\"><ul class=\"toc-item\"><li><span><a href=\"#Load-Libraries\" data-toc-modified-id=\"Load-Libraries-1\"><span class=\"toc-item-num\">1&nbsp;&nbsp;</span>Load Libraries</a></span></li><li><span><a href=\"#Setting-Basic-Parameters\" data-toc-modified-id=\"Setting-Basic-Parameters-2\"><span class=\"toc-item-num\">2&nbsp;&nbsp;</span>Setting Basic Parameters</a></span><ul class=\"toc-item\"><li><span><a href=\"#File-Path\" data-toc-modified-id=\"File-Path-2.1\"><span class=\"toc-item-num\">2.1&nbsp;&nbsp;</span>File Path</a></span></li><li><span><a href=\"#Loading-Files\" data-toc-modified-id=\"Loading-Files-2.2\"><span class=\"toc-item-num\">2.2&nbsp;&nbsp;</span>Loading Files</a></span></li></ul></li><li><span><a href=\"#CRISP-DM-Process\" data-toc-modified-id=\"CRISP-DM-Process-3\"><span class=\"toc-item-num\">3&nbsp;&nbsp;</span>CRISP-DM Process</a></span><ul class=\"toc-item\"><li><span><a href=\"#Business-Understanding\" data-toc-modified-id=\"Business-Understanding-3.1\"><span class=\"toc-item-num\">3.1&nbsp;&nbsp;</span>Business Understanding</a></span></li><li><span><a href=\"#Quick-Check-Datasets\" data-toc-modified-id=\"Quick-Check-Datasets-3.2\"><span class=\"toc-item-num\">3.2&nbsp;&nbsp;</span>Quick Check Datasets</a></span><ul class=\"toc-item\"><li><span><a href=\"#Calendar-Dataframe\" data-toc-modified-id=\"Calendar-Dataframe-3.2.1\"><span class=\"toc-item-num\">3.2.1&nbsp;&nbsp;</span>Calendar Dataframe</a></span></li><li><span><a href=\"#Listings-Dataframe\" data-toc-modified-id=\"Listings-Dataframe-3.2.2\"><span class=\"toc-item-num\">3.2.2&nbsp;&nbsp;</span>Listings Dataframe</a></span></li><li><span><a href=\"#Reviews-Dataframe\" data-toc-modified-id=\"Reviews-Dataframe-3.2.3\"><span class=\"toc-item-num\">3.2.3&nbsp;&nbsp;</span>Reviews Dataframe</a></span></li></ul></li><li><span><a href=\"#Data-Understanding\" data-toc-modified-id=\"Data-Understanding-3.3\"><span class=\"toc-item-num\">3.3&nbsp;&nbsp;</span>Data Understanding</a></span></li><li><span><a href=\"#Prepare-Data\" data-toc-modified-id=\"Prepare-Data-3.4\"><span class=\"toc-item-num\">3.4&nbsp;&nbsp;</span>Prepare Data</a></span><ul class=\"toc-item\"><li><span><a href=\"#Calendar-Dataframe\" data-toc-modified-id=\"Calendar-Dataframe-3.4.1\"><span class=\"toc-item-num\">3.4.1&nbsp;&nbsp;</span>Calendar Dataframe</a></span></li><li><span><a href=\"#Listings-Dataframe\" data-toc-modified-id=\"Listings-Dataframe-3.4.2\"><span class=\"toc-item-num\">3.4.2&nbsp;&nbsp;</span>Listings Dataframe</a></span></li></ul></li><li><span><a href=\"#Model-Data\" data-toc-modified-id=\"Model-Data-3.5\"><span class=\"toc-item-num\">3.5&nbsp;&nbsp;</span>Model Data</a></span><ul class=\"toc-item\"><li><span><a href=\"#What-are-the-busiest-times-of-the-year-to-visit-Boston?-By-how-much-do-prices-spike-?\" data-toc-modified-id=\"What-are-the-busiest-times-of-the-year-to-visit-Boston?-By-how-much-do-prices-spike-?-3.5.1\"><span class=\"toc-item-num\">3.5.1&nbsp;&nbsp;</span>What are the busiest times of the year to visit Boston? By how much do prices spike ?</a></span></li><li><span><a href=\"#What-are-the-factors-that-can-help-to-predict-house-price-?\" data-toc-modified-id=\"What-are-the-factors-that-can-help-to-predict-house-price-?-3.5.2\"><span class=\"toc-item-num\">3.5.2&nbsp;&nbsp;</span>What are the factors that can help to predict house price ?</a></span></li><li><span><a href=\"#What-are-the-factors-that-can-help-to-predict-listing-rate-?\" data-toc-modified-id=\"What-are-the-factors-that-can-help-to-predict-listing-rate-?-3.5.3\"><span class=\"toc-item-num\">3.5.3&nbsp;&nbsp;</span>What are the factors that can help to predict listing rate ?</a></span></li></ul></li><li><span><a href=\"#Evaluate-the-Results\" data-toc-modified-id=\"Evaluate-the-Results-3.6\"><span class=\"toc-item-num\">3.6&nbsp;&nbsp;</span>Evaluate the Results</a></span></li></ul></li><li><span><a href=\"#Reflections\" data-toc-modified-id=\"Reflections-4\"><span class=\"toc-item-num\">4&nbsp;&nbsp;</span>Reflections</a></span></li></ul></div>"
   ]
  },
  {
   "cell_type": "markdown",
   "metadata": {},
   "source": [
    "# AirBNB Data Analysis\n",
    "## Load Libraries"
   ]
  },
  {
   "cell_type": "code",
   "execution_count": 57,
   "metadata": {},
   "outputs": [],
   "source": [
    "# Loading Required Libraries\n",
    "import pandas as pd\n",
    "import numpy as np\n",
    "import sklearn\n",
    "\n",
    "\n",
    "#  Setting the maxium columns and rows for notebook\n",
    "pd.options.display.max_columns = 100\n",
    "pd.options.display.max_rows = 200\n",
    "\n",
    "\n",
    "#  Setting the data display format\n",
    "pd.set_option('display.float_format', lambda x: '{:,.2f}'.format(x))"
   ]
  },
  {
   "cell_type": "markdown",
   "metadata": {},
   "source": [
    "## Setting Basic Parameters\n",
    "### File Path"
   ]
  },
  {
   "cell_type": "code",
   "execution_count": 58,
   "metadata": {},
   "outputs": [],
   "source": [
    "cal_path = \"boston_calendar.csv\"\n",
    "lst_path = \"boston_listings.csv\"\n",
    "rev_path = \"boston_reviews.csv\""
   ]
  },
  {
   "cell_type": "markdown",
   "metadata": {},
   "source": [
    "### Loading Files"
   ]
  },
  {
   "cell_type": "code",
   "execution_count": 59,
   "metadata": {},
   "outputs": [],
   "source": [
    "# Load in Datasets\n",
    "cal_df = pd.read_csv(b_cal_path)\n",
    "lst_df = pd.read_csv(b_lst_path)\n",
    "rev_df = pd.read_csv(b_rev_path)"
   ]
  },
  {
   "cell_type": "markdown",
   "metadata": {},
   "source": [
    "## CRISP-DM Process\n",
    "### Business Understanding\n",
    "\n",
    "As per description from Kaggle, these datasets include calendar, listings and reviews information of AirBNB. To be more specific:\n",
    "- Listings, including full descriptions and average review score\n",
    "- Reviews, including unique id for each reviewer and detailed comments \n",
    "- Calendar, including listing id and the price and availability for that day\n",
    "\n",
    "After taking a quick look at the datasets, the following questions come into my mind:\n",
    "- 1. What are the busiest times of the year to visit Boston? By how much do prices spike ?\n",
    "- 2. What are the factors that can help to predict house price ?\n",
    "- 3. What are the factors that can help to predict listing rate ?"
   ]
  },
  {
   "cell_type": "markdown",
   "metadata": {},
   "source": [
    "### Quick Check Datasets\n",
    "#### Calendar Dataframe\n",
    "\n",
    "There are 4 columns in this datasets: listing_id, date, available, price. Price information have nan columns, which would need to clean up in the next process\n"
   ]
  },
  {
   "cell_type": "code",
   "execution_count": 60,
   "metadata": {},
   "outputs": [
    {
     "name": "stdout",
     "output_type": "stream",
     "text": [
      "<class 'pandas.core.frame.DataFrame'>\n",
      "RangeIndex: 1308890 entries, 0 to 1308889\n",
      "Data columns (total 4 columns):\n",
      "listing_id    1308890 non-null int64\n",
      "date          1308890 non-null object\n",
      "available     1308890 non-null object\n",
      "price         643037 non-null object\n",
      "dtypes: int64(1), object(3)\n",
      "memory usage: 39.9+ MB\n"
     ]
    }
   ],
   "source": [
    "cal_df.info()"
   ]
  },
  {
   "cell_type": "markdown",
   "metadata": {},
   "source": [
    "#### Listings Dataframe"
   ]
  },
  {
   "cell_type": "code",
   "execution_count": 61,
   "metadata": {},
   "outputs": [
    {
     "name": "stdout",
     "output_type": "stream",
     "text": [
      "<class 'pandas.core.frame.DataFrame'>\n",
      "RangeIndex: 3585 entries, 0 to 3584\n",
      "Data columns (total 95 columns):\n",
      "id                                  3585 non-null int64\n",
      "listing_url                         3585 non-null object\n",
      "scrape_id                           3585 non-null int64\n",
      "last_scraped                        3585 non-null object\n",
      "name                                3585 non-null object\n",
      "summary                             3442 non-null object\n",
      "space                               2528 non-null object\n",
      "description                         3585 non-null object\n",
      "experiences_offered                 3585 non-null object\n",
      "neighborhood_overview               2170 non-null object\n",
      "notes                               1610 non-null object\n",
      "transit                             2295 non-null object\n",
      "access                              2096 non-null object\n",
      "interaction                         2031 non-null object\n",
      "house_rules                         2393 non-null object\n",
      "thumbnail_url                       2986 non-null object\n",
      "medium_url                          2986 non-null object\n",
      "picture_url                         3585 non-null object\n",
      "xl_picture_url                      2986 non-null object\n",
      "host_id                             3585 non-null int64\n",
      "host_url                            3585 non-null object\n",
      "host_name                           3585 non-null object\n",
      "host_since                          3585 non-null object\n",
      "host_location                       3574 non-null object\n",
      "host_about                          2276 non-null object\n",
      "host_response_time                  3114 non-null object\n",
      "host_response_rate                  3114 non-null object\n",
      "host_acceptance_rate                3114 non-null object\n",
      "host_is_superhost                   3585 non-null object\n",
      "host_thumbnail_url                  3585 non-null object\n",
      "host_picture_url                    3585 non-null object\n",
      "host_neighbourhood                  3246 non-null object\n",
      "host_listings_count                 3585 non-null int64\n",
      "host_total_listings_count           3585 non-null int64\n",
      "host_verifications                  3585 non-null object\n",
      "host_has_profile_pic                3585 non-null object\n",
      "host_identity_verified              3585 non-null object\n",
      "street                              3585 non-null object\n",
      "neighbourhood                       3042 non-null object\n",
      "neighbourhood_cleansed              3585 non-null object\n",
      "neighbourhood_group_cleansed        0 non-null float64\n",
      "city                                3583 non-null object\n",
      "state                               3585 non-null object\n",
      "zipcode                             3547 non-null object\n",
      "market                              3571 non-null object\n",
      "smart_location                      3585 non-null object\n",
      "country_code                        3585 non-null object\n",
      "country                             3585 non-null object\n",
      "latitude                            3585 non-null float64\n",
      "longitude                           3585 non-null float64\n",
      "is_location_exact                   3585 non-null object\n",
      "property_type                       3582 non-null object\n",
      "room_type                           3585 non-null object\n",
      "accommodates                        3585 non-null int64\n",
      "bathrooms                           3571 non-null float64\n",
      "bedrooms                            3575 non-null float64\n",
      "beds                                3576 non-null float64\n",
      "bed_type                            3585 non-null object\n",
      "amenities                           3585 non-null object\n",
      "square_feet                         56 non-null float64\n",
      "price                               3585 non-null object\n",
      "weekly_price                        892 non-null object\n",
      "monthly_price                       888 non-null object\n",
      "security_deposit                    1342 non-null object\n",
      "cleaning_fee                        2478 non-null object\n",
      "guests_included                     3585 non-null int64\n",
      "extra_people                        3585 non-null object\n",
      "minimum_nights                      3585 non-null int64\n",
      "maximum_nights                      3585 non-null int64\n",
      "calendar_updated                    3585 non-null object\n",
      "has_availability                    0 non-null float64\n",
      "availability_30                     3585 non-null int64\n",
      "availability_60                     3585 non-null int64\n",
      "availability_90                     3585 non-null int64\n",
      "availability_365                    3585 non-null int64\n",
      "calendar_last_scraped               3585 non-null object\n",
      "number_of_reviews                   3585 non-null int64\n",
      "first_review                        2829 non-null object\n",
      "last_review                         2829 non-null object\n",
      "review_scores_rating                2772 non-null float64\n",
      "review_scores_accuracy              2762 non-null float64\n",
      "review_scores_cleanliness           2767 non-null float64\n",
      "review_scores_checkin               2765 non-null float64\n",
      "review_scores_communication         2767 non-null float64\n",
      "review_scores_location              2763 non-null float64\n",
      "review_scores_value                 2764 non-null float64\n",
      "requires_license                    3585 non-null object\n",
      "license                             0 non-null float64\n",
      "jurisdiction_names                  0 non-null float64\n",
      "instant_bookable                    3585 non-null object\n",
      "cancellation_policy                 3585 non-null object\n",
      "require_guest_profile_picture       3585 non-null object\n",
      "require_guest_phone_verification    3585 non-null object\n",
      "calculated_host_listings_count      3585 non-null int64\n",
      "reviews_per_month                   2829 non-null float64\n",
      "dtypes: float64(18), int64(15), object(62)\n",
      "memory usage: 2.6+ MB\n"
     ]
    }
   ],
   "source": [
    "lst_df.info()"
   ]
  },
  {
   "cell_type": "markdown",
   "metadata": {},
   "source": [
    "#### Reviews Dataframe\n",
    "\n",
    "The information"
   ]
  },
  {
   "cell_type": "code",
   "execution_count": 62,
   "metadata": {},
   "outputs": [
    {
     "name": "stdout",
     "output_type": "stream",
     "text": [
      "<class 'pandas.core.frame.DataFrame'>\n",
      "RangeIndex: 68275 entries, 0 to 68274\n",
      "Data columns (total 6 columns):\n",
      "listing_id       68275 non-null int64\n",
      "id               68275 non-null int64\n",
      "date             68275 non-null object\n",
      "reviewer_id      68275 non-null int64\n",
      "reviewer_name    68275 non-null object\n",
      "comments         68222 non-null object\n",
      "dtypes: int64(3), object(3)\n",
      "memory usage: 3.1+ MB\n"
     ]
    }
   ],
   "source": [
    "rev_df.info()"
   ]
  },
  {
   "cell_type": "markdown",
   "metadata": {},
   "source": [
    "### Data Understanding"
   ]
  },
  {
   "cell_type": "markdown",
   "metadata": {},
   "source": [
    "Regarding the above three questions, the following columns are required to answering them.\n",
    "\n",
    "- 1. Available and price columns from calendar can help answer this question\n",
    "- 2. Various columns from Calendar and Listings documents would be helpful.\n",
    "- 3. Similarily, various columns from Calendar and Listings documents would be helpful\n",
    "\n",
    "In this analysis, since I am not going the dig further on text analysis/emotion analysis. The review document is not used."
   ]
  },
  {
   "cell_type": "markdown",
   "metadata": {},
   "source": [
    "### Prepare Data\n",
    "#### Calendar Dataframe"
   ]
  },
  {
   "cell_type": "markdown",
   "metadata": {},
   "source": [
    "#### Listings Dataframe"
   ]
  },
  {
   "cell_type": "markdown",
   "metadata": {},
   "source": [
    "### Model Data"
   ]
  },
  {
   "cell_type": "markdown",
   "metadata": {},
   "source": [
    "#### What are the busiest times of the year to visit Boston? By how much do prices spike ?"
   ]
  },
  {
   "cell_type": "markdown",
   "metadata": {},
   "source": [
    "#### What are the factors that can help to predict house price ?"
   ]
  },
  {
   "cell_type": "markdown",
   "metadata": {},
   "source": [
    "#### What are the factors that can help to predict listing rate ?"
   ]
  },
  {
   "cell_type": "markdown",
   "metadata": {},
   "source": [
    "### Evaluate the Results"
   ]
  },
  {
   "cell_type": "markdown",
   "metadata": {},
   "source": [
    "## Reflections"
   ]
  },
  {
   "cell_type": "markdown",
   "metadata": {},
   "source": [
    "Due to the limited knowledge there is no text analysis in this analysis. In the furture, I would like to dig further on customer reviews through emotion analysis through deep learning techniques."
   ]
  }
 ],
 "metadata": {
  "kernelspec": {
   "display_name": "Python 3",
   "language": "python",
   "name": "python3"
  },
  "language_info": {
   "codemirror_mode": {
    "name": "ipython",
    "version": 3
   },
   "file_extension": ".py",
   "mimetype": "text/x-python",
   "name": "python",
   "nbconvert_exporter": "python",
   "pygments_lexer": "ipython3",
   "version": "3.6.5"
  },
  "toc": {
   "base_numbering": 1,
   "nav_menu": {},
   "number_sections": true,
   "sideBar": true,
   "skip_h1_title": true,
   "title_cell": "Table of Contents",
   "title_sidebar": "Contents",
   "toc_cell": true,
   "toc_position": {},
   "toc_section_display": true,
   "toc_window_display": false
  },
  "varInspector": {
   "cols": {
    "lenName": 16,
    "lenType": 16,
    "lenVar": 40
   },
   "kernels_config": {
    "python": {
     "delete_cmd_postfix": "",
     "delete_cmd_prefix": "del ",
     "library": "var_list.py",
     "varRefreshCmd": "print(var_dic_list())"
    },
    "r": {
     "delete_cmd_postfix": ") ",
     "delete_cmd_prefix": "rm(",
     "library": "var_list.r",
     "varRefreshCmd": "cat(var_dic_list()) "
    }
   },
   "types_to_exclude": [
    "module",
    "function",
    "builtin_function_or_method",
    "instance",
    "_Feature"
   ],
   "window_display": false
  }
 },
 "nbformat": 4,
 "nbformat_minor": 2
}
